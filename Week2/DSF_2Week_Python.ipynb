{
 "cells": [
  {
   "cell_type": "markdown",
   "metadata": {},
   "source": [
    "# <div align=\"center\"> DSF 2. Week: Python Basics"
   ]
  },
  {
   "cell_type": "markdown",
   "metadata": {},
   "source": [
    "In this exercise, you will learn some of the basics of Python.\n",
    "\n",
    "If you are already familiar with Python you can skim through the instruction and only focus on the small exercises at each section, and then go to the challenges at the end of the document.\n",
    "\n",
    "**Remember**, you have to run the cell (`Ctrl + Enter`) to see its output."
   ]
  },
  {
   "cell_type": "markdown",
   "metadata": {},
   "source": [
    "## Contents:\n",
    "1. **Hello world!**\n",
    "1. **Variables**\n",
    "1. **Operations**\n",
    "1. **Containers**\n",
    "1. **Conditionals**\n",
    "1. **Loops**\n",
    "1. **Functions**\n",
    "1. **Challenges**"
   ]
  },
  {
   "cell_type": "markdown",
   "metadata": {},
   "source": [
    "## 1. Hello World!\n",
    "Let's start by printing text! We can print almost anything. Below are examples with text and numbers."
   ]
  },
  {
   "cell_type": "code",
   "execution_count": 1,
   "metadata": {},
   "outputs": [
    {
     "name": "stdout",
     "output_type": "stream",
     "text": [
      "Hello World!\n",
      "5\n",
      "5.1\n",
      "True\n",
      "50\n"
     ]
    }
   ],
   "source": [
    "print(\"Hello World!\")\n",
    "print(5)\n",
    "print(5.1)\n",
    "print(True)\n",
    "print(25 * 2)"
   ]
  },
  {
   "cell_type": "markdown",
   "metadata": {},
   "source": [
    "Commas in the print function will insert spaces between the entries. This will be particularly useful when we want to print a variable with unknown value, or print many things of different data types."
   ]
  },
  {
   "cell_type": "code",
   "execution_count": 2,
   "metadata": {},
   "outputs": [
    {
     "name": "stdout",
     "output_type": "stream",
     "text": [
      "Give me some space.\n",
      "The current year is 2021\n",
      "Jake is 5 years old.\n"
     ]
    }
   ],
   "source": [
    "print(\"Give\", \"me\", \"some\", \"space.\")\n",
    "\n",
    "print(\"The current year is\", 2021)\n",
    "\n",
    "x = 5\n",
    "print(\"Jake is\", x, \"years old.\")"
   ]
  },
  {
   "cell_type": "markdown",
   "metadata": {},
   "source": [
    "```\\n``` gives a newline, and ```\\t``` gives a tab."
   ]
  },
  {
   "cell_type": "code",
   "execution_count": 3,
   "metadata": {},
   "outputs": [
    {
     "name": "stdout",
     "output_type": "stream",
     "text": [
      "This is the first line.\n",
      "This is the second line, with a \t tab.\n"
     ]
    }
   ],
   "source": [
    "print(\"This is the first line.\\nThis is the second line, with a \\t tab.\")"
   ]
  },
  {
   "cell_type": "markdown",
   "metadata": {},
   "source": [
    "**Exercise: Using only one print function, print your name, age and favorite ZHAW course on three different lines.**"
   ]
  },
  {
   "cell_type": "code",
   "execution_count": 5,
   "metadata": {},
   "outputs": [
    {
     "name": "stdout",
     "output_type": "stream",
     "text": [
      "Martin Eigenmann\n",
      "32\n",
      "Data Science\n"
     ]
    }
   ],
   "source": [
    "# enter your code here!\n",
    "print(\"Martin Eigenmann\\n32\\nData Science\")"
   ]
  },
  {
   "cell_type": "markdown",
   "metadata": {},
   "source": [
    "## 2. Variables\n",
    "### Declare and initialize?\n",
    "C++ is **statically typed** while Python is **dynamically typed**. This means that in C++, variable types are defined during compilation, while in Python they are defined during run-time.\n",
    "\n",
    "Because of this, in C++ you need to both *declare* a variable and its type, and then *initialize* it. In Python, you only need to initialize it. While types exist in Python, they are not written out when defining a variable."
   ]
  },
  {
   "cell_type": "code",
   "execution_count": 6,
   "metadata": {},
   "outputs": [
    {
     "name": "stdout",
     "output_type": "stream",
     "text": [
      "10\n",
      "3.14\n",
      "Epoch of Reionisation\n"
     ]
    }
   ],
   "source": [
    "# defining an integer variable\n",
    "x = 10\n",
    "# defining a double variable\n",
    "y = 3.14\n",
    "# defining a string\n",
    "word = \"Epoch of Reionisation\"\n",
    "\n",
    "# printing the variables\n",
    "print(x)\n",
    "print(y)\n",
    "print(word)"
   ]
  },
  {
   "cell_type": "markdown",
   "metadata": {},
   "source": [
    "In the above example it's easy to see that x is an integer, y is a double, and word is a string. But if you are unsure you can always check the type of a variable using ```type(someVariable)```."
   ]
  },
  {
   "cell_type": "code",
   "execution_count": 8,
   "metadata": {},
   "outputs": [
    {
     "name": "stdout",
     "output_type": "stream",
     "text": [
      "<class 'int'>\n",
      "<class 'float'>\n",
      "<class 'str'>\n"
     ]
    }
   ],
   "source": [
    "print( type(x) )\n",
    "print( type(y) )\n",
    "print( type(word) )"
   ]
  },
  {
   "cell_type": "markdown",
   "metadata": {},
   "source": [
    "### Changing type dynamically\n",
    "A blessing and a curse of Python is that you can change the type of a variable on the fly. Be careful that you don't accidentally change the type of variables unless desired!"
   ]
  },
  {
   "cell_type": "code",
   "execution_count": 7,
   "metadata": {},
   "outputs": [
    {
     "name": "stdout",
     "output_type": "stream",
     "text": [
      "Hello\n"
     ]
    }
   ],
   "source": [
    "# define an integer\n",
    "z = 7\n",
    "# redefine it as a string\n",
    "z = \"Hello\"\n",
    "\n",
    "print(z)"
   ]
  },
  {
   "cell_type": "markdown",
   "metadata": {},
   "source": [
    "### Type conversion\n",
    "If you have the number 64 stored as a string, but want to use it in computation, you can **cast** the string to an integer. To cast a variable to a different type, simply \"wrap\" it inside the type name. You can cast variables that \"make sense\" to cast. For example, you can cast 13 to a string \"13\" but you can't cast \"hello world!\" to a double (what would that even mean?)."
   ]
  },
  {
   "cell_type": "code",
   "execution_count": 9,
   "metadata": {
    "scrolled": false
   },
   "outputs": [
    {
     "name": "stdout",
     "output_type": "stream",
     "text": [
      "65\n"
     ]
    }
   ],
   "source": [
    "x = \"64\"\n",
    "# Need to cast x to an integer otherwise you get an error because you can't add an 'int' with a 'string'\n",
    "print( 1 + int(x) )"
   ]
  },
  {
   "cell_type": "markdown",
   "metadata": {},
   "source": [
    "Here is a list of common casts:\n",
    "* Integer: ```int()```\n",
    "* Double/Float: ```float()```\n",
    "* String: ```str()```\n",
    "\n",
    "**Exercise: Create a variable holding a decimal number and cast it to an integer. What happens with the value?**"
   ]
  },
  {
   "cell_type": "code",
   "execution_count": 13,
   "metadata": {},
   "outputs": [
    {
     "name": "stdout",
     "output_type": "stream",
     "text": [
      "<class 'str'> <class 'int'>\n"
     ]
    }
   ],
   "source": [
    "# enter your code here!\n",
    "number = \"42\"\n",
    "print(type(number), type(int(number)))"
   ]
  },
  {
   "cell_type": "markdown",
   "metadata": {},
   "source": [
    "## 3. Operations\n",
    "### Numerical\n",
    "Operations of numbers work similar to C++."
   ]
  },
  {
   "cell_type": "code",
   "execution_count": 15,
   "metadata": {},
   "outputs": [
    {
     "name": "stdout",
     "output_type": "stream",
     "text": [
      "10\n",
      "-10\n",
      "9\n",
      "50.0\n",
      "4\n",
      "1\n",
      "1024\n"
     ]
    }
   ],
   "source": [
    "# addition\n",
    "print(5 + 5)\n",
    "\n",
    "# subtraction\n",
    "print(10 - 20)\n",
    "\n",
    "# multiplication\n",
    "print(3 * 3)\n",
    "\n",
    "# division\n",
    "print(100 / 2)\n",
    "\n",
    "# integer division\n",
    "print(9 // 2)\n",
    "\n",
    "# remainder\n",
    "print(7 % 2)\n",
    "\n",
    "# power\n",
    "print(2**10)"
   ]
  },
  {
   "cell_type": "markdown",
   "metadata": {},
   "source": [
    "### Strings\n",
    "We can use ```+``` for strings to concatenate them."
   ]
  },
  {
   "cell_type": "code",
   "execution_count": 16,
   "metadata": {},
   "outputs": [
    {
     "name": "stdout",
     "output_type": "stream",
     "text": [
      "Återvänd till apa.\n"
     ]
    }
   ],
   "source": [
    "fake_language = \"Återvänd\" + \" till\" + \" apa.\"\n",
    "print(fake_language)"
   ]
  },
  {
   "cell_type": "markdown",
   "metadata": {},
   "source": [
    "### Operations with variables\n",
    "If a variable is an integer or float, then we can do operations like normal with them."
   ]
  },
  {
   "cell_type": "code",
   "execution_count": 19,
   "metadata": {},
   "outputs": [
    {
     "name": "stdout",
     "output_type": "stream",
     "text": [
      "z = 3\n"
     ]
    }
   ],
   "source": [
    "x = 5\n",
    "y = x + 3\n",
    "z = y - x\n",
    "print(\"z =\", z)"
   ]
  },
  {
   "cell_type": "markdown",
   "metadata": {},
   "source": [
    "We can also use increment, decrement, and similar operators to update the value of a variable."
   ]
  },
  {
   "cell_type": "code",
   "execution_count": 22,
   "metadata": {},
   "outputs": [
    {
     "name": "stdout",
     "output_type": "stream",
     "text": [
      "101\n",
      "100\n",
      "500\n",
      "50.0\n",
      "16.0\n",
      "4.0\n",
      "1024.0\n"
     ]
    }
   ],
   "source": [
    "x = 100\n",
    "\n",
    "# same as x = x + 1\n",
    "x += 1\n",
    "print(x)\n",
    "\n",
    "# same as x = x -1\n",
    "x -= 1\n",
    "print(x)\n",
    "\n",
    "# same as x = x * 5\n",
    "x *= 5\n",
    "print(x)\n",
    "\n",
    "# same as x = x / 10\n",
    "x /= 10\n",
    "print(x)\n",
    "\n",
    "# same as x // 3\n",
    "x //= 3\n",
    "print(x)\n",
    "\n",
    "# same as x = x % 6\n",
    "x %= 6\n",
    "print(x)\n",
    "\n",
    "# same as x = x**5\n",
    "x **= 5\n",
    "print(x)"
   ]
  },
  {
   "cell_type": "markdown",
   "metadata": {},
   "source": [
    "A very common use of this is to increment a variable by one: ```x += 1```"
   ]
  },
  {
   "cell_type": "markdown",
   "metadata": {},
   "source": [
    "## 4. Containers\n",
    "Variables like integers, floats and strings are good when we only have one value to keep track of. If we have multiple values we can use a container like:\n",
    "\n",
    "1. List\n",
    "1. Dictionary\n",
    "\n",
    "There are many more containers but today we will focus on these two.\n",
    "\n",
    "### Lists\n",
    "Lists are similar to arrays in C++, except that can change in size. Common operations on a list include:\n",
    "\n",
    "1. **Access single element** ```my_list[0]``` will retrieve the first element in the list.\n",
    "1. **Append to the list** ```my_list.append(\"ZHAW\")```\n",
    "1. **Delete items at between index a and b** ```del my_list[a:b]``` if you leave a empty, start from beginning to b, and vice versa.\n",
    "1. **Remove a certain element** ```my_list.remove(\"rabbit\")``` will remove \"rabbit\" if it exists in the list.\n",
    "1. **Sum over all values** ```sum(someList)```\n",
    "1. **Maximum/minimum value in the list** ```max(myList)``` or ```min(myList)```\n",
    "\n",
    "A list is created using ```[]```."
   ]
  },
  {
   "cell_type": "code",
   "execution_count": 23,
   "metadata": {},
   "outputs": [
    {
     "name": "stdout",
     "output_type": "stream",
     "text": [
      "Years: [1997, 2000, 2002]\n",
      "Second element of years 2000\n",
      "Last element of years 2002\n"
     ]
    }
   ],
   "source": [
    "# create a list with some integers\n",
    "years = [1997, 2000, 2002]\n",
    "\n",
    "# elements don't have to share datatype!\n",
    "some_list = [1, \"hello\", 2.7]\n",
    "\n",
    "# you can print lists\n",
    "print(\"Years:\",years)\n",
    "\n",
    "# print second element of a list and last element\n",
    "print(\"Second element of years\", years[1])\n",
    "print(\"Last element of years\", years[-1])\n",
    "\n",
    "# change the 1st element of a list\n",
    "years[0] = 1776\n",
    "\n",
    "# append to the list\n",
    "years.append(2025)\n",
    "\n",
    "# sum over all values\n",
    "sum_of_years = sum(years)\n",
    "\n",
    "# minimum year\n",
    "minimum = min(years)\n",
    "\n",
    "# remove an element\n",
    "years.remove(2000)\n",
    "\n",
    "# delete first element\n",
    "del years[0]\n",
    "\n",
    "# you can also create an empty list and then append stuff to it\n",
    "empty_list = []"
   ]
  },
  {
   "cell_type": "markdown",
   "metadata": {},
   "source": [
    "### Exercise: Create a list with your name (string), age (integer), height in meters (double), and favorite animal (string). After this, change the animal element to \"Penguin\"."
   ]
  },
  {
   "cell_type": "code",
   "execution_count": 28,
   "metadata": {},
   "outputs": [
    {
     "name": "stdout",
     "output_type": "stream",
     "text": [
      "[(<class 'str'>, 'Martin'), (<class 'int'>, 32), (<class 'float'>, 182.0), (<class 'str'>, 'Penguin')]\n"
     ]
    }
   ],
   "source": [
    "# enter your code here!\n",
    "elements = [\"Martin\", 32, 182.0, \"Animal\"]\n",
    "elements[3] = \"Penguin\"\n",
    "print([(type(element), element) for element in elements])"
   ]
  },
  {
   "cell_type": "markdown",
   "metadata": {},
   "source": [
    "### Dictionaries\n",
    "The basic idea is that the **value** of the elements in the container is tied to a **key**. To access a value in a dictionary, we use the key, not the position like in a list. This is very useful when we want to access a certain value given some other value, like a list of students and their grades. \n",
    "\n",
    "A dictionary is created using ```{}```.\n",
    "\n",
    "The keys and values can be any datatype, and they don't need to be the same datatype."
   ]
  },
  {
   "cell_type": "code",
   "execution_count": 29,
   "metadata": {},
   "outputs": [
    {
     "name": "stdout",
     "output_type": "stream",
     "text": [
      "{'Axel': 4.0, 'Albert': 5.5, 'Michael': 6.0}\n",
      "Grade of Axel 4.0\n",
      "{'Axel': 6.0, 'Albert': 5.5, 'Michael': 6.0}\n",
      "{'Axel': 6.0, 'Albert': 5.5, 'Michael': 6.0, 'Kenyan Drake': 5.0}\n"
     ]
    }
   ],
   "source": [
    "# A dictionary initiliazed with keys and values: Keys are names, values are grades\n",
    "grades = {\"Axel\": 4.0, \"Albert\": 5.5, \"Michael\": 6.0}\n",
    "print(grades)\n",
    "\n",
    "# access the value via the key\n",
    "print(\"Grade of Axel\", grades[\"Axel\"])\n",
    "\n",
    "# I can change the value as well\n",
    "grades[\"Axel\"] = 6.0\n",
    "print(grades)\n",
    "\n",
    "# I can also add a completely new person to the dictionary\n",
    "grades[\"Kenyan Drake\"] = 5.0\n",
    "print(grades)\n",
    "\n",
    "# Create an empty dictionary\n",
    "empty_dictionary = {}"
   ]
  },
  {
   "cell_type": "markdown",
   "metadata": {},
   "source": [
    "**Exercise: Create a dictionary with keys \"year\", \"month\" and \"day\" and initialize values to today's date. Then, increment the day by 1.**"
   ]
  },
  {
   "cell_type": "code",
   "execution_count": 46,
   "metadata": {},
   "outputs": [
    {
     "name": "stdout",
     "output_type": "stream",
     "text": [
      "{'year': 2023, 'month': 9, 'day': 27}\n"
     ]
    }
   ],
   "source": [
    "# enter your code here!\n",
    "from datetime import datetime, timedelta\n",
    "\n",
    "today = datetime.now()\n",
    "today += timedelta(days=1)\n",
    "dictionary = {\n",
    "    \"year\": today.year,\n",
    "    \"month\": today.month,\n",
    "    \"day\": today.day\n",
    "}\n",
    "print(dictionary)"
   ]
  },
  {
   "cell_type": "markdown",
   "metadata": {},
   "source": [
    "## 5. Conditionals\n",
    "### if, elif, else\n",
    "The syntax for if-else statements is very simple. **However**, notice that unlike C++, there are no brackets enclosing the block of code belonging to the if-statement! Instead, there is only indentation. This is true in general and not only for if-statements. **In Python, indentation plays the role of brackets. Make sure your indentations are aligned properly so that code belonging to the same block doesn't end up in the wrong block.** The if-statement ends when at the first line of **unindented** code."
   ]
  },
  {
   "cell_type": "code",
   "execution_count": 47,
   "metadata": {
    "scrolled": true
   },
   "outputs": [
    {
     "name": "stdout",
     "output_type": "stream",
     "text": [
      "You will only see this if x is positive\n",
      "x is 5\n"
     ]
    }
   ],
   "source": [
    "x = 5\n",
    "\n",
    "# if\n",
    "if x == 10:\n",
    "    print(\"You will only see this if x was 10\")\n",
    "\n",
    "    \n",
    "# if else\n",
    "if x > 0:\n",
    "    print(\"You will only see this if x is positive\")\n",
    "else:\n",
    "    print(\"You will only see this if x is zero or negative\")\n",
    "    \n",
    "# if, else if, and else\n",
    "if x > 100:\n",
    "    print(\"x is over 100\")\n",
    "elif x == 5:\n",
    "    print(\"x is 5\")\n",
    "else:\n",
    "    print(\"x is neither 5 nor over 100\")"
   ]
  },
  {
   "cell_type": "markdown",
   "metadata": {},
   "source": [
    "### Operations valid in conditionals\n",
    "Below is a table with operations that can be used in conditionals.\n",
    "\n",
    "| **Symbol** | **Operation** | **Example (Value)** |\n",
    "|----:|---------------:|-----------:\n",
    "| == | is equal to | 5 == 5 (True) |\n",
    "| **is** | is equal to (NOTE: single = is assignment, double == is 'equal to') |\n",
    "| < | less than | |\n",
    "| >= | greater or equal than | |\n",
    "| <= | less or equal than | |\n",
    "| **or** | logical OR | True or False (True) |\n",
    "| **and** | logical AND | True and False (False) |\n",
    "| **in** | checks whether something is inside a container | \"james\" in list_of_names (True if James is in the list of names) |"
   ]
  },
  {
   "cell_type": "markdown",
   "metadata": {},
   "source": [
    "Below is an example of ```and``` and ```or```."
   ]
  },
  {
   "cell_type": "code",
   "execution_count": 50,
   "metadata": {},
   "outputs": [
    {
     "name": "stdout",
     "output_type": "stream",
     "text": [
      "What is the truth value for this/that?\n",
      "one is true\n",
      "\n",
      "Is 'apple' in the fruit list? False\n"
     ]
    }
   ],
   "source": [
    "this = True\n",
    "that = False\n",
    "\n",
    "fruits = [\"banana\"]\n",
    "\n",
    "print(\"What is the truth value for this/that?\")\n",
    "if this and that:\n",
    "    print(\"both are true\")\n",
    "elif this or that:\n",
    "    print(\"one is true\")\n",
    "else:\n",
    "    print(\"neither are true\")\n",
    "\n",
    "print(\"\\nIs 'apple' in the fruit list?\", \"apple\" in fruits)"
   ]
  },
  {
   "cell_type": "markdown",
   "metadata": {},
   "source": [
    "### Exercise: Define a variable x = 3038 write a conditional that will print whether x is divisible by 7 or not"
   ]
  },
  {
   "cell_type": "code",
   "execution_count": 53,
   "metadata": {},
   "outputs": [
    {
     "name": "stdout",
     "output_type": "stream",
     "text": [
      "divisble\n"
     ]
    }
   ],
   "source": [
    "# enter your code here\n",
    "\n",
    "x = 3038\n",
    "\n",
    "if x % 7 == 0:\n",
    "    print(\"divisble\")\n",
    "else:\n",
    "    print(\"!divisible\")"
   ]
  },
  {
   "cell_type": "markdown",
   "metadata": {},
   "source": [
    "## 6. Loops\n",
    "There are two types of loops in Python: ```for``` and ```while```. Use the For loop when you know how many times you want to iterate the loop. Use the While loop when you don't know how many times you want to iterate the loop.\n",
    "\n",
    "In C++ you use brackets {} to indicate the block of code belonging to a loop. In Python we use **indentation**."
   ]
  },
  {
   "cell_type": "markdown",
   "metadata": {},
   "source": [
    "### For loops\n",
    "In Python For loops iterate over elements in a sequence (either a list, a tuple, a dictionary, a set, or a string). Unlike C++, you do not need to define an incrementing indexing variable (such as ```i```)."
   ]
  },
  {
   "cell_type": "code",
   "execution_count": 54,
   "metadata": {},
   "outputs": [
    {
     "name": "stdout",
     "output_type": "stream",
     "text": [
      "apple\n",
      "banana\n",
      "feijoa\n"
     ]
    }
   ],
   "source": [
    "# create a list\n",
    "fruits = [\"apple\", \"banana\", \"feijoa\"]\n",
    "\n",
    "# iterate through the items of the list and print them\n",
    "for f in fruits:\n",
    "    print(f)"
   ]
  },
  {
   "cell_type": "markdown",
   "metadata": {},
   "source": [
    "When iterating through dictionaries, your iterator will be the keys of the dictionary."
   ]
  },
  {
   "cell_type": "code",
   "execution_count": 55,
   "metadata": {},
   "outputs": [
    {
     "name": "stdout",
     "output_type": "stream",
     "text": [
      "Key: Hanna Value: 4\n",
      "Key: Markus Value: 3\n",
      "Key: Amat Value: 5\n"
     ]
    }
   ],
   "source": [
    "# create a dictionary\n",
    "scores = {\"Hanna\": 4, \"Markus\": 3, \"Amat\": 5}\n",
    "\n",
    "# iterate through its keys\n",
    "for key in scores:\n",
    "    print(\"Key:\", key, \"Value:\", scores[key])"
   ]
  },
  {
   "cell_type": "markdown",
   "metadata": {},
   "source": [
    "To iterate through two containers at once, use the ```zip()``` function."
   ]
  },
  {
   "cell_type": "code",
   "execution_count": 56,
   "metadata": {},
   "outputs": [
    {
     "name": "stdout",
     "output_type": "stream",
     "text": [
      "Chicago is in USA\n",
      "London is in England\n",
      "Zuerich is in Switzerland\n"
     ]
    }
   ],
   "source": [
    "cities = [\"Chicago\", \"London\", \"Zuerich\"]\n",
    "countries = [\"USA\", \"England\", \"Switzerland\"]\n",
    "\n",
    "for city, country in zip(cities, countries):\n",
    "    print(city, \"is in\", country)"
   ]
  },
  {
   "cell_type": "markdown",
   "metadata": {},
   "source": [
    "### Exercise: Increment each value in the car brand dictionary by 1 using a for loop"
   ]
  },
  {
   "cell_type": "code",
   "execution_count": 57,
   "metadata": {},
   "outputs": [],
   "source": [
    "# the dictionary\n",
    "my_dictionary = {\"honda\": 0, \"volvo\": 5, \"saab\": 14}\n",
    "\n",
    "# enter your code here to increment each car brand by 1"
   ]
  },
  {
   "cell_type": "markdown",
   "metadata": {},
   "source": [
    "### Using range() to get indexing variable\n",
    "If we *do* want an incrementing indexing variable we will use the ```range()``` function, which creates a sequence of numbers to iterate through. By default, ```range(x)``` will contain 0 to x-1 in integer steps. We can also add more parameters to define *start, stop, step size*: ```range(start, stop, step)```. Note that *start* is inclusive, while *stop* is not. *Step* can either be positive or negative, but needs to be integer.\n",
    "\n",
    "It's common to combine ```range()``` and ```len()``` to iterate through the indices of a container."
   ]
  },
  {
   "cell_type": "code",
   "execution_count": 58,
   "metadata": {},
   "outputs": [
    {
     "name": "stdout",
     "output_type": "stream",
     "text": [
      "0\n",
      "1\n",
      "2\n",
      "3\n",
      "4\n",
      "5\n",
      "6\n",
      "7\n",
      "8\n",
      "9\n"
     ]
    }
   ],
   "source": [
    "# iterate i from 0 to 9\n",
    "for i in range(10):\n",
    "    print(i)"
   ]
  },
  {
   "cell_type": "code",
   "execution_count": 59,
   "metadata": {},
   "outputs": [
    {
     "name": "stdout",
     "output_type": "stream",
     "text": [
      "apple is at position number 0 in the list.\n",
      "banana is at position number 1 in the list.\n",
      "feijoa is at position number 2 in the list.\n"
     ]
    }
   ],
   "source": [
    "# using an index to iterate through the fruit list\n",
    "for i in range(len(fruits)):\n",
    "    print(fruits[i], \"is at position number\", i, \"in the list.\")"
   ]
  },
  {
   "cell_type": "code",
   "execution_count": 60,
   "metadata": {},
   "outputs": [
    {
     "name": "stdout",
     "output_type": "stream",
     "text": [
      "10\n",
      "15\n",
      "20\n",
      "25\n",
      "30\n",
      "35\n",
      "40\n",
      "45\n"
     ]
    }
   ],
   "source": [
    "# iterate from 10 to 50 in steps of 5\n",
    "for i in range(10,50,5):\n",
    "    print(i)"
   ]
  },
  {
   "cell_type": "markdown",
   "metadata": {},
   "source": [
    "### Exercise: Print all integers from 100 to 80 backwards in steps of 2"
   ]
  },
  {
   "cell_type": "code",
   "execution_count": 71,
   "metadata": {},
   "outputs": [
    {
     "name": "stdout",
     "output_type": "stream",
     "text": [
      "[100, 98, 96, 94, 92, 90, 88, 86, 84, 82]\n"
     ]
    }
   ],
   "source": [
    "# enter your code here\n",
    "print([x for x in range(100, 80, -2)])"
   ]
  },
  {
   "cell_type": "markdown",
   "metadata": {},
   "source": [
    "### While loops\n",
    "```while(condition)``` loops will keep iterating until the given condition is no longer true. For example, ```while(x < 5)``` will keep executing its block of code until x is NOT less than 5.\n",
    "\n",
    "The condition is checked before each time the block in the loop is run."
   ]
  },
  {
   "cell_type": "code",
   "execution_count": 72,
   "metadata": {},
   "outputs": [
    {
     "name": "stdout",
     "output_type": "stream",
     "text": [
      "inside the loop, and x is 0\n",
      "inside the loop, and x is 1\n",
      "inside the loop, and x is 2\n",
      "inside the loop, and x is 3\n",
      "inside the loop, and x is 4\n",
      "outside the loop, and x is 5\n"
     ]
    }
   ],
   "source": [
    "x = 0\n",
    "\n",
    "while(x < 5):\n",
    "    print(\"inside the loop, and x is\", x)\n",
    "    # increment x\n",
    "    x += 1\n",
    "print(\"outside the loop, and x is\",x)"
   ]
  },
  {
   "cell_type": "markdown",
   "metadata": {},
   "source": [
    "A simple use of a while loop is to check that user input satisfies certain criteria. A for loop would not be very suitable for this, since we don't know how many tries it would take before the user gets it correctly.\n",
    "\n",
    "Below is an example of entering the correct name for a roman emperor. *Note that if you get it correctly the first try, you will not even enter the loop!*\n",
    "\n",
    "The ```input(\"some message\")``` function will prompt the user for an input in the console, and then return that input as its return value."
   ]
  },
  {
   "cell_type": "code",
   "execution_count": null,
   "metadata": {},
   "outputs": [],
   "source": [
    "emperor_name = input(\"Please enter the name of the Roman Emperor ruling between 27 BC - AD 14: \")\n",
    "while(emperor_name != \"Augustus Caesar\"):\n",
    "    emperor_name = input(\"Wrong name, please try again: \")\n",
    "print(\"That is correct!\")"
   ]
  },
  {
   "cell_type": "markdown",
   "metadata": {},
   "source": [
    "### Avoiding infinite loops\n",
    "When you write a while loop, you *NEED* to make sure that the loop has an **exit condition**. If there is no chance for the condition to be false, then you will have an infinite loop, and the rest of your code will not run. For example, ```while(True): doSomething()``` would run infinitely since True is never False (duh)."
   ]
  },
  {
   "cell_type": "markdown",
   "metadata": {},
   "source": [
    "### Exercise: Create a variable x = 2 and create a while loop with condition x <= 1024. In the loop, update x by squaring it. Count how many times the loop runs before exiting.\n",
    "\n",
    "**Hint:** Use a variable i to keep track of how many times the loop has executed."
   ]
  },
  {
   "cell_type": "code",
   "execution_count": 4,
   "metadata": {},
   "outputs": [
    {
     "name": "stdout",
     "output_type": "stream",
     "text": [
      "4 65536\n"
     ]
    }
   ],
   "source": [
    "# enter your code here!\n",
    "x = 2\n",
    "y = 0\n",
    "\n",
    "while x <= 1024:\n",
    "    y +=1\n",
    "    x **=2\n",
    "\n",
    "print(y, x)"
   ]
  },
  {
   "cell_type": "markdown",
   "metadata": {},
   "source": [
    "## 7. Functions"
   ]
  },
  {
   "cell_type": "markdown",
   "metadata": {},
   "source": [
    "In the class saw all the main elements composing a function. Let's see an example of it."
   ]
  },
  {
   "cell_type": "code",
   "execution_count": 5,
   "metadata": {},
   "outputs": [],
   "source": [
    "def my_function(param1, param2 = 3):\n",
    "    if param1 == param2: \n",
    "        print(\"The 2 parameters have the same value\")\n",
    "        return None\n",
    "    else: \n",
    "        summe = param1 + param2\n",
    "        print(summe)\n",
    "        return summe"
   ]
  },
  {
   "cell_type": "code",
   "execution_count": null,
   "metadata": {},
   "outputs": [],
   "source": [
    "my_function(1)\n",
    "my_function(1.4, 5.6)\n",
    "my_function(3)\n",
    "my_function(3,3)\n"
   ]
  },
  {
   "cell_type": "markdown",
   "metadata": {},
   "source": [
    "### Exercise: Define your own function which accepts 1 string input (default being \"Annina\"). If the string ends with letter \"a\" or \"e\", function will print \"Dear Mrs\" and the input, otherwise will print \"Dear Mr\" and the input. Return the number of letters in the input. "
   ]
  },
  {
   "cell_type": "code",
   "execution_count": null,
   "metadata": {},
   "outputs": [],
   "source": [
    "# enter your code here!"
   ]
  },
  {
   "cell_type": "markdown",
   "metadata": {},
   "source": [
    "## 8. Challenges\n",
    "\n",
    "#### 1. Print all numbers between 0-99 divisible by 7"
   ]
  },
  {
   "cell_type": "code",
   "execution_count": 6,
   "metadata": {},
   "outputs": [
    {
     "name": "stdout",
     "output_type": "stream",
     "text": [
      "[0, 7, 14, 21, 28, 35, 42, 49, 56, 63, 70, 77, 84, 91, 98]\n"
     ]
    }
   ],
   "source": [
    "# enter your code here\n",
    "print([x for x in range(0, 99, 1) if x % 7 == 0])"
   ]
  },
  {
   "cell_type": "markdown",
   "metadata": {},
   "source": [
    "#### 2. Roll a dice 1000 times and store the results in a dictionary\n",
    "Use the following code to simulate a dice roll. To ask for user's input, use input() https://www.w3schools.com/python/ref_func_input.asp)"
   ]
  },
  {
   "cell_type": "code",
   "execution_count": 7,
   "metadata": {},
   "outputs": [
    {
     "name": "stdout",
     "output_type": "stream",
     "text": [
      "1\n"
     ]
    }
   ],
   "source": [
    "from random import randint as dice\n",
    "\n",
    "# call dice(1,6) to get a random number between 1 and 6 (inclusive)\n",
    "x = dice(1,6)\n",
    "print(x)"
   ]
  },
  {
   "cell_type": "markdown",
   "metadata": {},
   "source": [
    "**HINTS**\n",
    "* What should the keys and the values be of the dictionary?\n",
    "* Print the dictionary, does the distribution make sense?\n"
   ]
  },
  {
   "cell_type": "code",
   "execution_count": 24,
   "metadata": {},
   "outputs": [
    {
     "name": "stdout",
     "output_type": "stream",
     "text": [
      "{0: 1, 1: 0, 2: 1, 3: 4, 4: 3, 5: 0, 6: 3, 7: 5, 8: 2, 9: 6, 10: 4, 11: 2, 12: 5, 13: 2, 14: 0, 15: 4, 16: 0, 17: 1, 18: 2, 19: 4, 20: 3, 21: 6, 22: 0, 23: 0, 24: 2, 25: 2, 26: 6, 27: 5, 28: 3, 29: 3, 30: 4, 31: 5, 32: 3, 33: 0, 34: 6, 35: 2, 36: 6, 37: 0, 38: 3, 39: 3, 40: 1, 41: 4, 42: 3, 43: 0, 44: 4, 45: 3, 46: 6, 47: 3, 48: 3, 49: 5, 50: 0, 51: 5, 52: 5, 53: 1, 54: 3, 55: 0, 56: 4, 57: 1, 58: 3, 59: 6, 60: 1, 61: 6, 62: 6, 63: 0, 64: 5, 65: 6, 66: 5, 67: 0, 68: 5, 69: 4, 70: 6, 71: 6, 72: 2, 73: 2, 74: 1, 75: 4, 76: 0, 77: 5, 78: 6, 79: 5, 80: 6, 81: 4, 82: 3, 83: 1, 84: 1, 85: 0, 86: 0, 87: 5, 88: 6, 89: 6, 90: 1, 91: 3, 92: 5, 93: 4, 94: 6, 95: 0, 96: 6, 97: 4, 98: 3, 99: 5, 100: 3, 101: 2, 102: 0, 103: 4, 104: 0, 105: 5, 106: 6, 107: 6, 108: 4, 109: 5, 110: 0, 111: 2, 112: 4, 113: 3, 114: 0, 115: 4, 116: 6, 117: 0, 118: 5, 119: 1, 120: 0, 121: 6, 122: 2, 123: 6, 124: 1, 125: 2, 126: 1, 127: 5, 128: 0, 129: 5, 130: 5, 131: 4, 132: 5, 133: 1, 134: 0, 135: 2, 136: 2, 137: 5, 138: 1, 139: 0, 140: 1, 141: 6, 142: 3, 143: 4, 144: 1, 145: 0, 146: 5, 147: 1, 148: 3, 149: 6, 150: 4, 151: 4, 152: 6, 153: 0, 154: 4, 155: 3, 156: 4, 157: 1, 158: 2, 159: 0, 160: 5, 161: 1, 162: 2, 163: 0, 164: 5, 165: 0, 166: 2, 167: 6, 168: 4, 169: 0, 170: 4, 171: 0, 172: 4, 173: 6, 174: 1, 175: 4, 176: 4, 177: 0, 178: 1, 179: 5, 180: 2, 181: 4, 182: 5, 183: 0, 184: 3, 185: 1, 186: 3, 187: 0, 188: 0, 189: 0, 190: 0, 191: 4, 192: 4, 193: 3, 194: 0, 195: 2, 196: 1, 197: 0, 198: 0, 199: 4, 200: 4, 201: 3, 202: 3, 203: 2, 204: 5, 205: 5, 206: 2, 207: 1, 208: 4, 209: 1, 210: 2, 211: 1, 212: 5, 213: 4, 214: 0, 215: 2, 216: 3, 217: 4, 218: 5, 219: 0, 220: 0, 221: 5, 222: 5, 223: 5, 224: 5, 225: 1, 226: 1, 227: 4, 228: 6, 229: 0, 230: 5, 231: 5, 232: 1, 233: 0, 234: 4, 235: 6, 236: 1, 237: 5, 238: 0, 239: 2, 240: 3, 241: 0, 242: 5, 243: 6, 244: 6, 245: 4, 246: 1, 247: 6, 248: 5, 249: 4, 250: 1, 251: 5, 252: 6, 253: 0, 254: 5, 255: 6, 256: 5, 257: 5, 258: 4, 259: 6, 260: 3, 261: 2, 262: 5, 263: 3, 264: 5, 265: 2, 266: 3, 267: 3, 268: 5, 269: 2, 270: 3, 271: 5, 272: 1, 273: 1, 274: 0, 275: 2, 276: 1, 277: 4, 278: 3, 279: 0, 280: 3, 281: 1, 282: 3, 283: 1, 284: 4, 285: 0, 286: 2, 287: 4, 288: 1, 289: 4, 290: 3, 291: 1, 292: 0, 293: 5, 294: 2, 295: 1, 296: 6, 297: 0, 298: 3, 299: 4, 300: 3, 301: 6, 302: 4, 303: 3, 304: 1, 305: 0, 306: 4, 307: 1, 308: 1, 309: 5, 310: 5, 311: 2, 312: 1, 313: 5, 314: 2, 315: 5, 316: 4, 317: 3, 318: 1, 319: 6, 320: 1, 321: 2, 322: 2, 323: 4, 324: 1, 325: 3, 326: 0, 327: 6, 328: 2, 329: 2, 330: 5, 331: 3, 332: 4, 333: 0, 334: 0, 335: 4, 336: 4, 337: 1, 338: 5, 339: 4, 340: 4, 341: 4, 342: 0, 343: 5, 344: 0, 345: 1, 346: 3, 347: 0, 348: 3, 349: 5, 350: 2, 351: 3, 352: 1, 353: 5, 354: 1, 355: 5, 356: 6, 357: 6, 358: 3, 359: 5, 360: 2, 361: 5, 362: 0, 363: 4, 364: 3, 365: 5, 366: 6, 367: 0, 368: 5, 369: 1, 370: 0, 371: 0, 372: 1, 373: 3, 374: 4, 375: 1, 376: 1, 377: 5, 378: 5, 379: 0, 380: 0, 381: 0, 382: 1, 383: 6, 384: 6, 385: 5, 386: 0, 387: 0, 388: 1, 389: 0, 390: 5, 391: 5, 392: 0, 393: 1, 394: 4, 395: 0, 396: 2, 397: 3, 398: 5, 399: 4, 400: 5, 401: 5, 402: 3, 403: 5, 404: 2, 405: 4, 406: 2, 407: 4, 408: 5, 409: 3, 410: 3, 411: 0, 412: 5, 413: 4, 414: 2, 415: 3, 416: 1, 417: 2, 418: 4, 419: 4, 420: 2, 421: 6, 422: 6, 423: 6, 424: 2, 425: 3, 426: 6, 427: 4, 428: 4, 429: 4, 430: 4, 431: 1, 432: 0, 433: 3, 434: 4, 435: 2, 436: 5, 437: 5, 438: 6, 439: 6, 440: 0, 441: 6, 442: 1, 443: 0, 444: 0, 445: 3, 446: 1, 447: 2, 448: 6, 449: 3, 450: 5, 451: 3, 452: 2, 453: 3, 454: 0, 455: 1, 456: 0, 457: 3, 458: 5, 459: 3, 460: 0, 461: 2, 462: 5, 463: 0, 464: 4, 465: 6, 466: 0, 467: 2, 468: 6, 469: 5, 470: 3, 471: 3, 472: 6, 473: 2, 474: 2, 475: 4, 476: 2, 477: 5, 478: 4, 479: 0, 480: 1, 481: 5, 482: 3, 483: 1, 484: 0, 485: 2, 486: 3, 487: 3, 488: 5, 489: 3, 490: 1, 491: 4, 492: 5, 493: 0, 494: 6, 495: 2, 496: 4, 497: 5, 498: 1, 499: 3, 500: 6, 501: 5, 502: 0, 503: 5, 504: 1, 505: 6, 506: 2, 507: 5, 508: 3, 509: 1, 510: 5, 511: 4, 512: 5, 513: 1, 514: 5, 515: 3, 516: 3, 517: 1, 518: 1, 519: 1, 520: 2, 521: 3, 522: 0, 523: 0, 524: 3, 525: 1, 526: 0, 527: 2, 528: 0, 529: 1, 530: 3, 531: 5, 532: 0, 533: 5, 534: 6, 535: 5, 536: 2, 537: 2, 538: 4, 539: 0, 540: 2, 541: 4, 542: 6, 543: 3, 544: 6, 545: 3, 546: 5, 547: 2, 548: 4, 549: 2, 550: 1, 551: 2, 552: 5, 553: 1, 554: 1, 555: 5, 556: 5, 557: 5, 558: 1, 559: 1, 560: 3, 561: 6, 562: 3, 563: 4, 564: 5, 565: 5, 566: 5, 567: 2, 568: 2, 569: 3, 570: 6, 571: 4, 572: 3, 573: 2, 574: 6, 575: 4, 576: 2, 577: 0, 578: 1, 579: 3, 580: 0, 581: 6, 582: 6, 583: 0, 584: 0, 585: 0, 586: 4, 587: 1, 588: 1, 589: 6, 590: 5, 591: 6, 592: 3, 593: 5, 594: 1, 595: 0, 596: 2, 597: 3, 598: 3, 599: 0, 600: 5, 601: 6, 602: 6, 603: 5, 604: 5, 605: 1, 606: 3, 607: 0, 608: 5, 609: 1, 610: 3, 611: 2, 612: 1, 613: 1, 614: 3, 615: 0, 616: 6, 617: 4, 618: 1, 619: 2, 620: 2, 621: 5, 622: 3, 623: 3, 624: 2, 625: 0, 626: 1, 627: 1, 628: 0, 629: 1, 630: 6, 631: 6, 632: 5, 633: 6, 634: 4, 635: 2, 636: 3, 637: 4, 638: 1, 639: 0, 640: 0, 641: 0, 642: 2, 643: 2, 644: 6, 645: 4, 646: 5, 647: 5, 648: 2, 649: 3, 650: 0, 651: 3, 652: 2, 653: 2, 654: 3, 655: 5, 656: 5, 657: 1, 658: 4, 659: 6, 660: 4, 661: 5, 662: 6, 663: 6, 664: 0, 665: 2, 666: 5, 667: 1, 668: 2, 669: 3, 670: 2, 671: 6, 672: 3, 673: 1, 674: 1, 675: 2, 676: 0, 677: 5, 678: 6, 679: 4, 680: 4, 681: 1, 682: 6, 683: 5, 684: 0, 685: 4, 686: 0, 687: 1, 688: 0, 689: 6, 690: 4, 691: 4, 692: 4, 693: 1, 694: 0, 695: 0, 696: 1, 697: 2, 698: 6, 699: 5, 700: 1, 701: 4, 702: 3, 703: 6, 704: 0, 705: 5, 706: 1, 707: 1, 708: 0, 709: 0, 710: 3, 711: 2, 712: 2, 713: 1, 714: 4, 715: 5, 716: 0, 717: 5, 718: 4, 719: 3, 720: 2, 721: 1, 722: 4, 723: 6, 724: 6, 725: 2, 726: 0, 727: 6, 728: 2, 729: 5, 730: 6, 731: 0, 732: 4, 733: 1, 734: 0, 735: 3, 736: 2, 737: 1, 738: 4, 739: 5, 740: 4, 741: 6, 742: 4, 743: 4, 744: 6, 745: 5, 746: 0, 747: 1, 748: 6, 749: 3, 750: 1, 751: 2, 752: 4, 753: 6, 754: 3, 755: 5, 756: 6, 757: 2, 758: 0, 759: 4, 760: 4, 761: 1, 762: 3, 763: 4, 764: 2, 765: 3, 766: 2, 767: 6, 768: 0, 769: 4, 770: 3, 771: 0, 772: 2, 773: 4, 774: 4, 775: 3, 776: 0, 777: 5, 778: 4, 779: 6, 780: 1, 781: 1, 782: 6, 783: 3, 784: 0, 785: 6, 786: 5, 787: 2, 788: 1, 789: 5, 790: 2, 791: 1, 792: 0, 793: 3, 794: 2, 795: 0, 796: 1, 797: 3, 798: 2, 799: 3, 800: 0, 801: 2, 802: 6, 803: 1, 804: 5, 805: 2, 806: 1, 807: 5, 808: 1, 809: 3, 810: 0, 811: 2, 812: 6, 813: 6, 814: 3, 815: 0, 816: 1, 817: 2, 818: 6, 819: 3, 820: 3, 821: 5, 822: 0, 823: 0, 824: 2, 825: 4, 826: 1, 827: 6, 828: 6, 829: 2, 830: 3, 831: 1, 832: 3, 833: 0, 834: 1, 835: 2, 836: 3, 837: 0, 838: 2, 839: 3, 840: 2, 841: 1, 842: 5, 843: 4, 844: 0, 845: 1, 846: 5, 847: 3, 848: 5, 849: 5, 850: 4, 851: 5, 852: 1, 853: 5, 854: 4, 855: 1, 856: 0, 857: 6, 858: 5, 859: 0, 860: 5, 861: 1, 862: 2, 863: 0, 864: 6, 865: 4, 866: 5, 867: 3, 868: 2, 869: 5, 870: 3, 871: 0, 872: 0, 873: 3, 874: 3, 875: 1, 876: 3, 877: 2, 878: 0, 879: 5, 880: 3, 881: 0, 882: 1, 883: 0, 884: 6, 885: 6, 886: 3, 887: 3, 888: 1, 889: 4, 890: 4, 891: 1, 892: 5, 893: 0, 894: 1, 895: 3, 896: 4, 897: 2, 898: 3, 899: 2, 900: 2, 901: 0, 902: 5, 903: 5, 904: 2, 905: 1, 906: 4, 907: 0, 908: 3, 909: 6, 910: 5, 911: 5, 912: 2, 913: 1, 914: 2, 915: 3, 916: 1, 917: 2, 918: 2, 919: 2, 920: 3, 921: 4, 922: 2, 923: 0, 924: 2, 925: 0, 926: 2, 927: 0, 928: 6, 929: 0, 930: 2, 931: 5, 932: 6, 933: 0, 934: 1, 935: 1, 936: 1, 937: 2, 938: 0, 939: 0, 940: 0, 941: 3, 942: 1, 943: 3, 944: 6, 945: 3, 946: 5, 947: 0, 948: 3, 949: 0, 950: 2, 951: 0, 952: 4, 953: 2, 954: 4, 955: 2, 956: 0, 957: 3, 958: 1, 959: 2, 960: 0, 961: 1, 962: 3, 963: 6, 964: 4, 965: 5, 966: 6, 967: 5, 968: 1, 969: 0, 970: 5, 971: 3, 972: 1, 973: 6, 974: 5, 975: 6, 976: 1, 977: 6, 978: 1, 979: 6, 980: 5, 981: 3, 982: 4, 983: 0, 984: 3, 985: 6, 986: 2, 987: 2, 988: 6, 989: 0, 990: 6, 991: 6, 992: 6, 993: 2, 994: 0, 995: 6, 996: 3, 997: 5, 998: 1, 999: 1}\n",
      "2.878\n"
     ]
    }
   ],
   "source": [
    "# enter your solution here\n",
    "results = {}\n",
    "for x in range(0, 1000):\n",
    "    results[x] = dice(0,6)\n",
    "\n",
    "print(results)\n",
    "print(sum([val for x, val in results.items()])/len(results))\n"
   ]
  },
  {
   "cell_type": "markdown",
   "metadata": {},
   "source": [
    "#### 3. Do you want to play Rock, Paper, Scissors?"
   ]
  },
  {
   "cell_type": "markdown",
   "metadata": {},
   "source": [
    "Make a Rock-Paper-Scissors game against your computer. (Hint: Ask for player choice (using input, https://www.w3schools.com/python/ref_func_input.asp), let the computer choose a random element from the 3 possible plays (https://docs.python.org/3/library/random.html), compare the two choices, print out a message of congratulations to the winner)\n",
    "\n",
    "Remember the rules:\n",
    "\n",
    "Rock beats scissors <br>\n",
    "Scissors beats paper  <br>\n",
    "Paper beats rock <br>"
   ]
  },
  {
   "cell_type": "code",
   "execution_count": 27,
   "metadata": {},
   "outputs": [
    {
     "name": "stdout",
     "output_type": "stream",
     "text": [
      "rock\n"
     ]
    }
   ],
   "source": [
    "from random import choice #to select a random element from the list \n",
    "\n",
    "#inser your code here\n",
    "player = \"rock\"\n",
    "computer = choice([\"rock\", \"paper\", \"cissors\"])\n",
    "\n",
    "if (computer == player):\n",
    "    print(\"draw\")\n",
    "\n",
    "# and so on"
   ]
  }
 ],
 "metadata": {
  "kernelspec": {
   "display_name": "Python 3",
   "language": "python",
   "name": "python3"
  },
  "language_info": {
   "codemirror_mode": {
    "name": "ipython",
    "version": 3
   },
   "file_extension": ".py",
   "mimetype": "text/x-python",
   "name": "python",
   "nbconvert_exporter": "python",
   "pygments_lexer": "ipython3",
   "version": "3.11.5"
  }
 },
 "nbformat": 4,
 "nbformat_minor": 4
}
